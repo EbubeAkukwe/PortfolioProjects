{
 "cells": [
  {
   "cell_type": "code",
   "execution_count": 1,
   "id": "0e4de617",
   "metadata": {},
   "outputs": [],
   "source": [
    "import pandas as pd\n",
    "import matplotlib.pyplot as plt"
   ]
  },
  {
   "cell_type": "code",
   "execution_count": 2,
   "id": "0b722a1e",
   "metadata": {},
   "outputs": [
    {
     "name": "stdout",
     "output_type": "stream",
     "text": [
      "[20, 21, 22, 23, 23, 23, 24, 24, 25, 25, 26, 26, 27, 27, 28, 28, 29, 29, 30, 30, 30, 31, 31, 32, 32, 32, 33, 34, 34, 34, 34, 35, 35, 36, 36, 36, 36, 37, 37, 37, 37, 38, 38, 38, 38, 38, 39, 39, 39, 40, 40, 40, 40, 40, 41, 41, 41, 41, 41, 42, 42, 42, 42, 43, 43, 43, 43, 43, 44, 44, 44, 44, 45, 46, 46, 46, 47, 47, 48, 49, 49, 50, 51, 52, 53, 53, 54, 54, 54, 54, 56, 57, 57, 58, 58, 58, 60, 62, 63, 66]\n"
     ]
    }
   ],
   "source": [
    "dataset = [54,41,46,60,56,30,21,38,35,46,24,22,58,37,39,42,54,40,42,49,41,39,54,42,51,26,43,43,37,36,29,42,39,63,43,35,27,38,34,40,44,49,57,48,37,29,58,40,41,38,36,50,44,37,30,43,20,25,43,44,41,57,66,24,23,58,45,38,26,52,53,23,27,33,31,30,34,41,46,47,23,44,38,25,28,32,31,40,34,62,36,28,40,34,32,47,54,53,32,36]\n",
    "#sorting dataset\n",
    "dataset.sort(reverse=False)\n",
    "print(dataset)"
   ]
  },
  {
   "cell_type": "code",
   "execution_count": 3,
   "id": "daee0239",
   "metadata": {},
   "outputs": [
    {
     "name": "stdout",
     "output_type": "stream",
     "text": [
      "Ef = 100\n"
     ]
    }
   ],
   "source": [
    "\"Summation of Frequency\"\n",
    "count = 0\n",
    "for x in dataset :\n",
    "    count += 1\n",
    "print(\"Ef = \" + str(count))"
   ]
  },
  {
   "cell_type": "code",
   "execution_count": 4,
   "id": "d25fd7a7",
   "metadata": {},
   "outputs": [
    {
     "name": "stdout",
     "output_type": "stream",
     "text": [
      "Min: 20\n",
      "Max: 66\n",
      "Range: 46\n",
      "Class Limits: {'20-24': 8, '25-29': 10, '30-34': 13, '35-39': 18, '40-44': 23, '45-49': 9, '50-54': 9, '55-59': 6, '60-64': 3, '65-69': 1}\n",
      "Class Boundaries: {'19.5-24.5': 8, '24.5-29.5': 10, '29.5-34.5': 13, '34.5-39.5': 18, '39.5-44.5': 23, '44.5-49.5': 9, '49.5-54.5': 9, '54.5-59.5': 6, '59.5-64.5': 3, '64.5-69.5': 1}\n",
      "MidPoints: {'20-24': 22.5, '25-29': 27.5, '30-34': 32.5, '35-39': 37.5, '40-44': 42.5, '45-49': 47.5, '50-54': 52.5, '55-59': 57.5, '60-64': 62.5, '65-69': 67.5}\n",
      "Class boundaries: [19.5, 24.5, 29.5, 34.5, 39.5, 44.5, 49.5, 54.5, 59.5, 64.5, 69.5]\n"
     ]
    }
   ],
   "source": [
    "#getting the class intervals/limits\n",
    "\n",
    "#getting the range\n",
    "lowest = min(dataset)\n",
    "highest = max(dataset)\n",
    "print(f'Min: {lowest}')\n",
    "print(f'Max: {highest}')\n",
    "print(f'Range: {highest - lowest}')\n",
    "\n",
    "# Note that the lowest value is 20 so our class limit will start from 20\n",
    "\n",
    "'''\n",
    "Using a class width of 5 from the question\n",
    "The limits will be in the form 20-25, 26-30 etc.\n",
    "\n",
    "'''\n",
    "class_limits_list = []\n",
    "class_limits_dict = {}\n",
    "class_boundaries_list = []\n",
    "class_boundaries_dict = {}\n",
    "mid_points_dict = {}\n",
    "class_boundaries = []\n",
    "\n",
    "'''\n",
    "To get how many intervals that'll give us a starting upper limit of 20 and an ending lower limit\n",
    "that'll contain the highest value which is 66\n",
    "\n",
    "'''\n",
    "lower_limit = lowest\n",
    "no_of_limits = 10 # 100 / 10\n",
    "\n",
    "#the loop gets the class limits for the dataset, \n",
    "#gets the class boundaries for the dataset (subtracting 0.5 from lowerlimit and adding 0.5 to upper limit),\n",
    "#gets the frequency, midpoint, etc\n",
    "\n",
    "frequency = 0\n",
    "while no_of_limits >= 1 :\n",
    "    lower_limit = lowest\n",
    "    lower_boundary = lowest-0.5\n",
    "    upper_limit = lowest + 5\n",
    "    upper_boundary = lowest + 5.5\n",
    "    class_limits_list.append(str(lower_limit)+'-'+str(upper_limit-1))\n",
    "    class_boundaries_list.append(str(lower_boundary)+'-'+str(upper_boundary-1))\n",
    "    limit_str = str(lower_limit)+'-'+str(upper_limit-1)\n",
    "    boundary_str = str(lower_boundary)+'-'+str(upper_boundary-1)\n",
    "    midpoint = (lower_limit+upper_limit)/2\n",
    "    for i in dataset :\n",
    "        if i in range(lower_limit,upper_limit) :\n",
    "            frequency += 1\n",
    "    class_boundaries_dict = {**class_boundaries_dict, boundary_str:frequency} \n",
    "    class_limits_dict = {**class_limits_dict, limit_str:frequency}\n",
    "    mid_points_dict = {**mid_points_dict, limit_str:midpoint}\n",
    "    class_boundaries.append(lower_boundary)\n",
    "    frequency = 0\n",
    "    no_of_limits -= 1\n",
    "    lowest = upper_limit\n",
    "class_boundaries.append(class_boundaries[len(class_boundaries)-1]+5)\n",
    "\n",
    "print(f'Class Limits: { class_limits_dict}')\n",
    "print(f'Class Boundaries: {class_boundaries_dict}')\n",
    "print(f'MidPoints: {mid_points_dict}')\n",
    "print(f'Class boundaries: {class_boundaries}')"
   ]
  },
  {
   "cell_type": "code",
   "execution_count": 5,
   "id": "c3def428",
   "metadata": {},
   "outputs": [
    {
     "data": {
      "image/png": "[encoded data removed]",
      "text/plain": [
       "<Figure size 640x480 with 1 Axes>"
      ]
     },
     "metadata": {},
     "output_type": "display_data"
    }
   ],
   "source": [
    "#for the histogram, I'll only use the dataset and the class_boundaries list\n",
    "\n",
    "plt.hist(dataset, class_boundaries, ec=\"black\")\n",
    "plt.title(\"Histogram Of 100 Orange Trees Harvest Dataset\")\n",
    "plt.xlabel(\"Class Boundaries\")\n",
    "plt.ylabel(\"Frequency\")\n",
    "plt.xticks(class_boundaries)\n",
    "plt.show()"
   ]
  },
  {
   "cell_type": "code",
   "execution_count": 15,
   "id": "6b1870f4",
   "metadata": {},
   "outputs": [
    {
     "name": "stdout",
     "output_type": "stream",
     "text": [
      "[8, 18, 31, 49, 72, 81, 90, 96, 99, 100]\n",
      "[22.5, 27.5, 32.5, 37.5, 42.5, 47.5, 52.5, 57.5, 62.5, 67.5]\n",
      "['19.5-24.5', '24.5-29.5', '29.5-34.5', '34.5-39.5', '39.5-44.5', '44.5-49.5', '49.5-54.5', '54.5-59.5', '59.5-64.5', '64.5-69.5']\n",
      "[8, 10, 13, 18, 23, 9, 9, 6, 3, 1]\n",
      "['20-24', '25-29', '30-34', '35-39', '40-44', '45-49', '50-54', '55-59', '60-64', '65-69']\n"
     ]
    }
   ],
   "source": [
    "#lists to be used to fill the table\n",
    "\n",
    "frequencies = []\n",
    "class_limits = []\n",
    "class_boundaries = []\n",
    "mid_points = []\n",
    "cummulative_frequencies = []\n",
    "rp = []\n",
    "#frequency\n",
    "for k in class_limits_dict :\n",
    "    frequencies.append(class_limits_dict[k])\n",
    "    class_limits.append(k)\n",
    "#class_boundaries\n",
    "for k in class_boundaries_dict :\n",
    "    class_boundaries.append(k)\n",
    "#midpoints\n",
    "for k in mid_points_dict :\n",
    "    mid_points.append(mid_points_dict[k])\n",
    "#cummulative frequency\n",
    "v = 0\n",
    "h = 0\n",
    "while v < len(frequencies) :\n",
    "    cummulative_frequencies.append(frequencies[v] + h)\n",
    "    h = frequencies[v] + h\n",
    "    v += 1\n",
    "    \n",
    "\n",
    "\n",
    "print(cummulative_frequencies)\n",
    "print(mid_points)\n",
    "print(class_boundaries)\n",
    "print(frequencies)    \n",
    "print(class_limits)"
   ]
  },
  {
   "cell_type": "code",
   "execution_count": 54,
   "id": "3297dbae",
   "metadata": {},
   "outputs": [
    {
     "name": "stdout",
     "output_type": "stream",
     "text": [
      "Frequency Distribution Table \n",
      "\n",
      "| Class Limits | Frequency | Class Boundries  | Mid Point | Relative Frequency | Cummulative Frequency |\n",
      "\n",
      "|    20-24     |     8     |    19.5-24.5     |    22.5   |        0.08        |           8           |\n",
      "\n",
      "|    25-29     |     10    |    24.5-29.5     |    27.5   |        0.1         |           18          |\n",
      "\n",
      "|    30-34     |     13    |    29.5-34.5     |    32.5   |        0.13        |           31          |\n",
      "\n",
      "|    35-39     |     18    |    34.5-39.5     |    37.5   |        0.18        |           49          |\n",
      "\n",
      "|    40-44     |     23    |    39.5-44.5     |    42.5   |        0.23        |           72          |\n",
      "\n",
      "|    45-49     |     9     |    44.5-49.5     |    47.5   |        0.09        |           81          |\n",
      "\n",
      "|    50-54     |     9     |    49.5-54.5     |    52.5   |        0.09        |           90          |\n",
      "\n",
      "|    55-59     |     6     |    54.5-59.5     |    57.5   |        0.06        |           96          |\n",
      "\n",
      "|    60-64     |     3     |    59.5-64.5     |    62.5   |        0.03        |           99          |\n",
      "\n",
      "|    65-69     |     1     |    64.5-69.5     |    67.5   |        0.01        |          100          |\n",
      "\n"
     ]
    }
   ],
   "source": [
    "#printing the frequency distribution table, just for fun XoXo\n",
    "\n",
    "print(\"Frequency Distribution Table \\n\")\n",
    "print(\"| Class Limits | Frequency | Class Boundries  | Mid Point | Relative Frequency | Cummulative Frequency |\" + \"\\n\")\n",
    "step = 0\n",
    "while step < len(frequencies) :\n",
    "    lines = (\"|\"+class_limits[step].center(len(\" Class Limits \"), \" \")+\n",
    "             \"|\"+str(frequencies[step]).center(len(\" Frequency \"), \" \")+\n",
    "             \"|\"+str(class_boundaries[step]).center(len(\" Class Boundaries \"), \" \")+\n",
    "             \"|\"+str(mid_points[step]).center(len(\" Mid Point \"), \" \")+\n",
    "             \"|\"+str(frequencies[step]/100).center(len(\" Relative Frequency \"), \" \")+\n",
    "             \"|\"+str(cummulative_frequencies[step]).center(len(\" Cummulative Frequency \"), \" \")) +\"|\" + \"\\n\"\n",
    "    print(lines)\n",
    "    step += 1\n",
    "#print(lines*11)"
   ]
  },
  {
   "cell_type": "code",
   "execution_count": null,
   "id": "1ab0acde",
   "metadata": {},
   "outputs": [],
   "source": []
  },
  {
   "cell_type": "code",
   "execution_count": null,
   "id": "5890bf0e",
   "metadata": {},
   "outputs": [],
   "source": [
    "Project By: A.J Ebube"
   ]
  }
 ],
 "metadata": {
  "kernelspec": {
   "display_name": "Python 3 (ipykernel)",
   "language": "python",
   "name": "python3"
  },
  "language_info": {
   "codemirror_mode": {
    "name": "ipython",
    "version": 3
   },
   "file_extension": ".py",
   "mimetype": "text/x-python",
   "name": "python",
   "nbconvert_exporter": "python",
   "pygments_lexer": "ipython3",
   "version": "3.11.4"
  }
 },
 "nbformat": 4,
 "nbformat_minor": 5
}
