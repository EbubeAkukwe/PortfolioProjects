{
 "cells": [
  {
   "cell_type": "markdown",
   "id": "2218c927-ffeb-4e61-82f8-bdf4f2470fea",
   "metadata": {},
   "source": [
    "**WILL AI REPLACE U ?**\n",
    "\n",
    "AI as we know it is every where now and everyone is affected by it in one way or the other. Before 2020, your skill and expertise will tell how well you will perform at your job. Nowadays as the case may be, it's usually how well you can leverage AI in your said Job that'll determine how well you can perform. \n",
    "\n",
    "Will AI take our Jobs or will someone using AI replace you?\n",
    "\n",
    "Don't worry you'll find out in my analysis. Stay put, Read the code, Go through the Analysis, Enjoy xD\n",
    "\n",
    "*run code blocks one after the other, in order they appear to avoid undefined errors.....*\n"
   ]
  },
  {
   "cell_type": "code",
   "execution_count": 31,
   "id": "7c1b61f2-82e5-4304-b0a2-72045dd5288d",
   "metadata": {},
   "outputs": [],
   "source": [
    "#importing libraries\n",
    "import pandas as pd\n",
    "import numpy as np\n",
    "import matplotlib.pyplot as plt"
   ]
  },
  {
   "cell_type": "code",
   "execution_count": 2,
   "id": "a21ba697-555c-47f1-bcbf-da3d1fa45190",
   "metadata": {},
   "outputs": [],
   "source": [
    "#grab csv dataset and put in a dataframe\n",
    "df = pd.read_csv(f\"C:\\\\Users\\\\user\\\\Documents\\\\Data Analysis\\\\will ai replace you\\\\AI_IN_WORKFORCE_DATASET.csv\")"
   ]
  },
  {
   "cell_type": "code",
   "execution_count": 3,
   "id": "e1560612-8fa4-4e55-a4c0-bd2965e1263b",
   "metadata": {},
   "outputs": [],
   "source": [
    "#select job titles under Data & IT and store in new dataframe\n",
    "tech_employees = df[df[\"Domain\"] == \"Data & IT\"]"
   ]
  },
  {
   "cell_type": "markdown",
   "id": "ecd20ad0-6c02-42a2-ba17-f8e00b4defa5",
   "metadata": {},
   "source": [
    "The AI Impact Ratio is the percentage impact of ai per workload for any given Domain in the workforce.\n",
    "\n",
    "Let me show you what I'm talking about, taking the Data & IT Domain as a good example\n",
    "\n",
    "The code snippet below calculates the AI Impact Ratio for the Data & IT Domain.\n",
    "A plot will be done using a sample of the top 3 and least 2 go get the estimate range of the dataset "
   ]
  },
  {
   "cell_type": "code",
   "execution_count": 4,
   "id": "a30411a5-463c-4e87-b0e7-07c0904a5488",
   "metadata": {},
   "outputs": [
    {
     "name": "stderr",
     "output_type": "stream",
     "text": [
      "C:\\Users\\user\\AppData\\Local\\Temp\\ipykernel_8620\\3301405224.py:20: SettingWithCopyWarning: \n",
      "A value is trying to be set on a copy of a slice from a DataFrame.\n",
      "Try using .loc[row_indexer,col_indexer] = value instead\n",
      "\n",
      "See the caveats in the documentation: https://pandas.pydata.org/pandas-docs/stable/user_guide/indexing.html#returning-a-view-versus-a-copy\n",
      "  tech_employees[\"ai_impact_ratio\"] = ai_impact_ratio\n"
     ]
    },
    {
     "data": {
      "text/html": [
       "<div>\n",
       "<style scoped>\n",
       "    .dataframe tbody tr th:only-of-type {\n",
       "        vertical-align: middle;\n",
       "    }\n",
       "\n",
       "    .dataframe tbody tr th {\n",
       "        vertical-align: top;\n",
       "    }\n",
       "\n",
       "    .dataframe thead th {\n",
       "        text-align: right;\n",
       "    }\n",
       "</style>\n",
       "<table border=\"1\" class=\"dataframe\">\n",
       "  <thead>\n",
       "    <tr style=\"text-align: right;\">\n",
       "      <th></th>\n",
       "      <th>Job titiles</th>\n",
       "      <th>AI Impact</th>\n",
       "      <th>Tasks</th>\n",
       "      <th>AI models</th>\n",
       "      <th>AI_Workload_Ratio</th>\n",
       "      <th>Domain</th>\n",
       "      <th>ai_impact_ratio</th>\n",
       "    </tr>\n",
       "  </thead>\n",
       "  <tbody>\n",
       "    <tr>\n",
       "      <th>1</th>\n",
       "      <td>Data Collector</td>\n",
       "      <td>95%</td>\n",
       "      <td>299</td>\n",
       "      <td>2148</td>\n",
       "      <td>0.139199</td>\n",
       "      <td>Data &amp; IT</td>\n",
       "      <td>0.132239</td>\n",
       "    </tr>\n",
       "    <tr>\n",
       "      <th>11</th>\n",
       "      <td>Data Clerk</td>\n",
       "      <td>90%</td>\n",
       "      <td>317</td>\n",
       "      <td>2258</td>\n",
       "      <td>0.140390</td>\n",
       "      <td>Data &amp; IT</td>\n",
       "      <td>0.126351</td>\n",
       "    </tr>\n",
       "    <tr>\n",
       "      <th>21</th>\n",
       "      <td>Delivery Driver</td>\n",
       "      <td>88%</td>\n",
       "      <td>20</td>\n",
       "      <td>309</td>\n",
       "      <td>0.064725</td>\n",
       "      <td>Data &amp; IT</td>\n",
       "      <td>0.056958</td>\n",
       "    </tr>\n",
       "    <tr>\n",
       "      <th>31</th>\n",
       "      <td>Transcriber</td>\n",
       "      <td>85%</td>\n",
       "      <td>205</td>\n",
       "      <td>1359</td>\n",
       "      <td>0.150846</td>\n",
       "      <td>Data &amp; IT</td>\n",
       "      <td>0.128219</td>\n",
       "    </tr>\n",
       "    <tr>\n",
       "      <th>41</th>\n",
       "      <td>Clerk Typist</td>\n",
       "      <td>83%</td>\n",
       "      <td>263</td>\n",
       "      <td>1986</td>\n",
       "      <td>0.132427</td>\n",
       "      <td>Data &amp; IT</td>\n",
       "      <td>0.109914</td>\n",
       "    </tr>\n",
       "    <tr>\n",
       "      <th>...</th>\n",
       "      <td>...</td>\n",
       "      <td>...</td>\n",
       "      <td>...</td>\n",
       "      <td>...</td>\n",
       "      <td>...</td>\n",
       "      <td>...</td>\n",
       "      <td>...</td>\n",
       "    </tr>\n",
       "    <tr>\n",
       "      <th>4661</th>\n",
       "      <td>Salon Assistant</td>\n",
       "      <td>5%</td>\n",
       "      <td>298</td>\n",
       "      <td>1561</td>\n",
       "      <td>0.190903</td>\n",
       "      <td>Data &amp; IT</td>\n",
       "      <td>0.009545</td>\n",
       "    </tr>\n",
       "    <tr>\n",
       "      <th>4671</th>\n",
       "      <td>Payroll</td>\n",
       "      <td>5%</td>\n",
       "      <td>667</td>\n",
       "      <td>2667</td>\n",
       "      <td>0.250094</td>\n",
       "      <td>Data &amp; IT</td>\n",
       "      <td>0.012505</td>\n",
       "    </tr>\n",
       "    <tr>\n",
       "      <th>4681</th>\n",
       "      <td>Admissions Coordinator</td>\n",
       "      <td>5%</td>\n",
       "      <td>1188</td>\n",
       "      <td>4603</td>\n",
       "      <td>0.258093</td>\n",
       "      <td>Data &amp; IT</td>\n",
       "      <td>0.012905</td>\n",
       "    </tr>\n",
       "    <tr>\n",
       "      <th>4691</th>\n",
       "      <td>Fire Watch</td>\n",
       "      <td>5%</td>\n",
       "      <td>261</td>\n",
       "      <td>1008</td>\n",
       "      <td>0.258929</td>\n",
       "      <td>Data &amp; IT</td>\n",
       "      <td>0.012946</td>\n",
       "    </tr>\n",
       "    <tr>\n",
       "      <th>4701</th>\n",
       "      <td>Singer</td>\n",
       "      <td>5%</td>\n",
       "      <td>686</td>\n",
       "      <td>2798</td>\n",
       "      <td>0.245175</td>\n",
       "      <td>Data &amp; IT</td>\n",
       "      <td>0.012259</td>\n",
       "    </tr>\n",
       "  </tbody>\n",
       "</table>\n",
       "<p>471 rows × 7 columns</p>\n",
       "</div>"
      ],
      "text/plain": [
       "                 Job titiles AI Impact  Tasks  AI models  AI_Workload_Ratio  \\\n",
       "1             Data Collector       95%    299       2148           0.139199   \n",
       "11                Data Clerk       90%    317       2258           0.140390   \n",
       "21           Delivery Driver       88%     20        309           0.064725   \n",
       "31               Transcriber       85%    205       1359           0.150846   \n",
       "41              Clerk Typist       83%    263       1986           0.132427   \n",
       "...                      ...       ...    ...        ...                ...   \n",
       "4661         Salon Assistant        5%    298       1561           0.190903   \n",
       "4671                 Payroll        5%    667       2667           0.250094   \n",
       "4681  Admissions Coordinator        5%   1188       4603           0.258093   \n",
       "4691              Fire Watch        5%    261       1008           0.258929   \n",
       "4701                  Singer        5%    686       2798           0.245175   \n",
       "\n",
       "         Domain  ai_impact_ratio  \n",
       "1     Data & IT         0.132239  \n",
       "11    Data & IT         0.126351  \n",
       "21    Data & IT         0.056958  \n",
       "31    Data & IT         0.128219  \n",
       "41    Data & IT         0.109914  \n",
       "...         ...              ...  \n",
       "4661  Data & IT         0.009545  \n",
       "4671  Data & IT         0.012505  \n",
       "4681  Data & IT         0.012905  \n",
       "4691  Data & IT         0.012946  \n",
       "4701  Data & IT         0.012259  \n",
       "\n",
       "[471 rows x 7 columns]"
      ]
     },
     "execution_count": 4,
     "metadata": {},
     "output_type": "execute_result"
    }
   ],
   "source": [
    "#calculating ai impact ratio for all columns and saving in a list\n",
    "\n",
    "ai_workload_ratio =[]\n",
    "ai_impact = []\n",
    "ai_impact_ratio = []\n",
    "\n",
    "for ratio in tech_employees[\"AI_Workload_Ratio\"] :\n",
    "    ai_workload_ratio.append(ratio)\n",
    "for impact in tech_employees[\"AI Impact\"] :\n",
    "    ai_impact.append(int(impact.replace('%',''))/100)\n",
    "\n",
    "k = len(ai_workload_ratio)\n",
    "v = 0\n",
    "#calculating the impact of ai per workload\n",
    "while v <= k - 1 :\n",
    "    impact_ratio = ai_workload_ratio[v] * ai_impact[v]\n",
    "    ai_impact_ratio.append(impact_ratio)\n",
    "    v += 1\n",
    "#creating a new column and populating it with the ai_impact_ratio list\n",
    "tech_employees[\"ai_impact_ratio\"] = ai_impact_ratio\n",
    "tech_employees"
   ]
  },
  {
   "cell_type": "code",
   "execution_count": 5,
   "id": "a18922bd-e80b-46a9-b002-3cdadc3cd113",
   "metadata": {},
   "outputs": [
    {
     "data": {
      "image/png": "[encoded data removed]",
      "text/plain": [
       "<Figure size 640x480 with 1 Axes>"
      ]
     },
     "metadata": {},
     "output_type": "display_data"
    }
   ],
   "source": [
    "#selects the top 3 and last 2 as a sample to get an idea of how ai can effect(very high or very low) unrelated Domains\n",
    "tech_employees_sample = pd.concat([tech_employees.head(3), tech_employees.tail(2)]).drop_duplicates().reset_index(drop=True)\n",
    "tech_employees_sample = tech_employees_sample.sort_values(by = 'ai_impact_ratio')\n",
    "bar_plot = plt.bar(tech_employees_sample['Job titiles'], tech_employees_sample['ai_impact_ratio'])\n",
    "line_plot = plt.plot(tech_employees_sample['Job titiles'], tech_employees_sample['ai_impact_ratio'])"
   ]
  },
  {
   "cell_type": "markdown",
   "id": "a1e566b2-39d3-4583-b2db-048079ccbf82",
   "metadata": {},
   "source": [
    "From the above plots, I can say that AI has a higher effect on a Data Collector and Data Clerk (highest in the plot) than it has on a Singer and A fir Watch Man. Now you see what I'm talking about? Although AI has impact on Jobs of unrelated Domains, there seems to be a close margin when the Domain are related, In this case the Data Clerk and Data Collector. Let's dive deeper"
   ]
  },
  {
   "cell_type": "markdown",
   "id": "13527e31-b522-4d59-b88a-ed69547ea209",
   "metadata": {},
   "source": [
    "This is just a sample analysis to get going, just so I can get a hint about the dataset"
   ]
  },
  {
   "cell_type": "markdown",
   "id": "dc9ceff0-79e4-4bf3-b696-7846934a8f14",
   "metadata": {},
   "source": [
    "It's high time I open a soundcloud account and start singing for fear of been replaced by AI, as we're impacted the most (I mean we that work in tech generally)\n",
    "\n",
    "Either way you can't deny the fact that AI will change the way you approach the work force and your career in general y'know. When push comes to shove it'll either be you replacing somebody in the workforce or getting replaced by someone else, most especially if you're working in tech....\n",
    "\n",
    "Accept AI, apply it in your field, adopt, grow, level up and drop your skill issues(I've started dropping mine   \\\\_(* *-* *)_/  ). Wish you all the best.\n",
    "\n",
    "Message me on X if you have suggestions or just to yap about what you thinkk aboutthe analysis. It'll do alot for me, Thank you.\n",
    "\n",
    "\n",
    "\n",
    "Bonus: Below are quick ways to get the number of rows and columns in your dataframe in O(n) time with and without hashmaps\n",
    "I prefer the hashmaps way because alot can be gotten from the hashmap than just the number of rows and columns .... xD"
   ]
  },
  {
   "cell_type": "code",
   "execution_count": 28,
   "id": "9f171344-85cf-487a-86e5-21bd513c6115",
   "metadata": {},
   "outputs": [
    {
     "name": "stdout",
     "output_type": "stream",
     "text": [
      "471 rows x 6 columns\n"
     ]
    }
   ],
   "source": [
    "#algorithm to count the number or rows and columns in a dataframe in O(n) time without hashmap\n",
    "def find_col_row(dataframe) :\n",
    "    col_count = 0\n",
    "    row_count = 0\n",
    "    for col in dataframe :\n",
    "        col_count += 1\n",
    "    row_count = len(tech_employees)\n",
    "    print(f'{row_count} rows x {col_count} columns')\n",
    "find_col_row(df)"
   ]
  },
  {
   "cell_type": "code",
   "execution_count": 29,
   "id": "a0afd89c-46ab-4f54-8762-61dda649ab53",
   "metadata": {},
   "outputs": [
    {
     "name": "stdout",
     "output_type": "stream",
     "text": [
      "471 rows x 6 columns\n"
     ]
    }
   ],
   "source": [
    "#algorithm to count the number or rows and columns in a dataframe in O(n) time using hashmaps\n",
    "def find_col_row(dataframe):\n",
    "    col_count = 0\n",
    "    row_count = 0\n",
    "    row_col = {} #hashmap, hashtable or dictionary\n",
    "    for col in dataframe :\n",
    "        row_col[col] = tech_employees[col]\n",
    "    \n",
    "    for col in row_col :\n",
    "        col_count += 1\n",
    "        row_count = len(row_col[col])\n",
    "    print(f'{row_count} rows x {col_count} columns')\n",
    "find_col_row(df)"
   ]
  },
  {
   "cell_type": "markdown",
   "id": "f9391dc5-9360-4bf7-a452-d4b34819d0c6",
   "metadata": {},
   "source": [
    "Analysis By @EbubeAkukwe on x[dot]com"
   ]
  },
  {
   "cell_type": "code",
   "execution_count": null,
   "id": "fd135d21-a8c3-4635-9aa3-55cdf9532c51",
   "metadata": {},
   "outputs": [],
   "source": []
  }
 ],
 "metadata": {
  "kernelspec": {
   "display_name": "Python 3 (ipykernel)",
   "language": "python",
   "name": "python3"
  },
  "language_info": {
   "codemirror_mode": {
    "name": "ipython",
    "version": 3
   },
   "file_extension": ".py",
   "mimetype": "text/x-python",
   "name": "python",
   "nbconvert_exporter": "python",
   "pygments_lexer": "ipython3",
   "version": "3.12.7"
  }
 },
 "nbformat": 4,
 "nbformat_minor": 5
}
